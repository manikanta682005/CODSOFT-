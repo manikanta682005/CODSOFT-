{
  "nbformat": 4,
  "nbformat_minor": 0,
  "metadata": {
    "colab": {
      "provenance": [],
      "authorship_tag": "ABX9TyPH//mj+TaNKMEDpE3CGaiu",
      "include_colab_link": true
    },
    "kernelspec": {
      "name": "python3",
      "display_name": "Python 3"
    },
    "language_info": {
      "name": "python"
    }
  },
  "cells": [
    {
      "cell_type": "markdown",
      "metadata": {
        "id": "view-in-github",
        "colab_type": "text"
      },
      "source": [
        "<a href=\"https://colab.research.google.com/github/manikanta682005/CODSOFT-/blob/main/Untitled3.ipynb\" target=\"_parent\"><img src=\"https://colab.research.google.com/assets/colab-badge.svg\" alt=\"Open In Colab\"/></a>"
      ]
    },
    {
      "cell_type": "code",
      "execution_count": 1,
      "metadata": {
        "colab": {
          "base_uri": "https://localhost:8080/",
          "height": 193
        },
        "id": "oSv_aRM3RUbB",
        "outputId": "b87e8d76-20fa-4596-d662-d7cf60b2ded1"
      },
      "outputs": [
        {
          "output_type": "error",
          "ename": "SyntaxError",
          "evalue": "invalid syntax (<ipython-input-1-77a77338c6ec>, line 3)",
          "traceback": [
            "\u001b[0;36m  File \u001b[0;32m\"<ipython-input-1-77a77338c6ec>\"\u001b[0;36m, line \u001b[0;32m3\u001b[0m\n\u001b[0;31m    class BinaryDigitCounter {\u001b[0m\n\u001b[0m                             ^\u001b[0m\n\u001b[0;31mSyntaxError\u001b[0m\u001b[0;31m:\u001b[0m invalid syntax\n"
          ]
        }
      ],
      "source": [
        "import java.util.Scanner;\n",
        "\n",
        "class BinaryDigitCounter {\n",
        "    public static String intToBinary(int n) {\n",
        "        if (n == 0) return \"0\";\n",
        "        StringBuilder binary = new StringBuilder();\n",
        "        while (n > 0) {\n",
        "            binary.insert(0, n % 2);\n",
        "            n /= 2;\n",
        "        }\n",
        "        return binary.toString();\n",
        "    }\n",
        "\n",
        "    // update the function below\n",
        "    public static int countBinaryDigits(int n)\n",
        "    {\n",
        "        if(n==0)\n",
        "        {\n",
        "            return 0;\n",
        "        }\n",
        "\n",
        "        return 1+ countBinaryDigits(n/2);\n",
        "    }\n",
        "\n",
        "    public static void main(String[] args) {\n",
        "        Scanner scanner = new Scanner(System.in);\n",
        "        int T = scanner.nextInt();\n",
        "\n",
        "        for (int i = 0; i < T; i++) {\n",
        "            int N = scanner.nextInt();\n",
        "            String binary = intToBinary(N);\n",
        "            int digitCount = countBinaryDigits(N);\n",
        "            System.out.println(digitCount);\n",
        "        }\n",
        "\n",
        "        scanner.close();\n",
        "    }\n",
        "}"
      ]
    },
    {
      "cell_type": "code",
      "source": [],
      "metadata": {
        "id": "wYv_w9EZRpvd"
      },
      "execution_count": null,
      "outputs": []
    }
  ]
}